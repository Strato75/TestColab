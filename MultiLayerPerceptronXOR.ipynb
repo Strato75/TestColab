{
 "cells": [
  {
   "cell_type": "code",
   "execution_count": null,
   "metadata": {},
   "outputs": [],
   "source": [
    "%pylab inline"
   ]
  },
  {
   "cell_type": "code",
   "execution_count": null,
   "metadata": {},
   "outputs": [],
   "source": [
    "from sklearn.model_selection import train_test_split\n",
    "from sklearn.metrics import accuracy_score\n",
    "\n",
    "from keras import models\n",
    "from keras import layers\n",
    "from keras.utils import plot_model"
   ]
  },
  {
   "cell_type": "code",
   "execution_count": null,
   "metadata": {},
   "outputs": [],
   "source": [
    "def generateDataXor(n_samples):\n",
    "    \"\"\" \n",
    "    generates a 2D linearly separable dataset with n samples. \n",
    "    The third element of the sample is the label\n",
    "    \"\"\"\n",
    "    xb = (rand(n_samples*2, 2)) \n",
    "    \n",
    "    lab = np.zeros(n_samples*2)\n",
    "    \n",
    "    lab[((xb[:,0] < 0.5) & (xb[:,1]>0.5)) | ((xb[:,0]>0.5) & (xb[:,1]<0.5))] = 1\n",
    "    \n",
    "    \n",
    "    return xb, lab \n",
    "\n",
    " \n",
    "def plot_data(net, x_test, y_test, title_str):\n",
    "    fig = figure()\n",
    "    coords_A = x_test[y_test == 1]\n",
    "    coords_B = x_test[y_test != 1]\n",
    "\n",
    "    scatter(coords_A[:,0], coords_A[:,1], c='r', label='Class 1')\n",
    "    scatter(coords_B[:,0], coords_B[:,1], c='b', label='Class 0')\n",
    "\n",
    "    legend()\n",
    "\n",
    "    title(title_str)\n",
    "\n",
    "    return fig\n"
   ]
  },
  {
   "cell_type": "markdown",
   "metadata": {},
   "source": [
    "#### XOR"
   ]
  },
  {
   "cell_type": "code",
   "execution_count": null,
   "metadata": {},
   "outputs": [],
   "source": [
    "X, y = generateDataXor(100000)\n",
    "x_train, x_test, y_train, y_test = train_test_split(X, y, test_size=0.3)"
   ]
  },
  {
   "cell_type": "code",
   "execution_count": null,
   "metadata": {
    "scrolled": true
   },
   "outputs": [],
   "source": [
    "print (y)"
   ]
  },
  {
   "cell_type": "markdown",
   "metadata": {},
   "source": [
    "### Network 1"
   ]
  },
  {
   "cell_type": "code",
   "execution_count": null,
   "metadata": {},
   "outputs": [],
   "source": [
    "### Multilayer perceprton\n",
    "\n",
    "network = models.Sequential()\n",
    "network.add(layers.Dense(2, activation='sigmoid', input_shape=(2,)))\n",
    "network.add(layers.Dense(1, activation='sigmoid'))\n",
    "\n",
    "network.compile(optimizer='rmsprop',\n",
    "                loss='binary_crossentropy',\n",
    "                metrics=['accuracy'])\n",
    "\n",
    "plot_model(network, to_file='model.png')\n",
    "history = network.fit(x_train, y_train, epochs=30, batch_size=128)\n",
    "ev = network.evaluate(x_test, y_test)\n",
    "\n",
    "figure()\n",
    "plot( history.history['loss'])\n",
    "plot( history.history['acc'])\n",
    "\n",
    "y_test_pred = network.predict(x_test)[:, 0]\n",
    "y_test_pred_int = np.round(y_test_pred)\n",
    "fig = plot_data(network, x_test, y_test_pred_int, 'Acc = %.2f' % ev[1])\n",
    "fig.savefig('/home/giovanni/Scrivania/Immagini_Presentazione_TDM/MLP_n1_xor_train.png', dpi=300)"
   ]
  },
  {
   "cell_type": "markdown",
   "metadata": {},
   "source": [
    "### Network 2"
   ]
  },
  {
   "cell_type": "code",
   "execution_count": null,
   "metadata": {},
   "outputs": [],
   "source": [
    "### Multilayer perceprton\n",
    "\n",
    "network = models.Sequential()\n",
    "network.add(layers.Dense(2, activation='sigmoid', input_shape=(2,)))\n",
    "network.add(layers.Dense(4, activation='sigmoid'))\n",
    "network.add(layers.Dense(1, activation='sigmoid'))\n",
    "\n",
    "network.compile(optimizer='rmsprop',\n",
    "                loss='binary_crossentropy',\n",
    "                metrics=['accuracy'])\n",
    "\n",
    "plot_model(network, to_file='model.png')\n",
    "history = network.fit(x_train, y_train, epochs=60, batch_size=128)\n",
    "ev = network.evaluate(x_test, y_test)\n",
    "\n",
    "figure()\n",
    "plot( history.history['loss'])\n",
    "plot( history.history['acc'])\n",
    "\n",
    "y_test_pred = network.predict(x_test)[:, 0]\n",
    "y_test_pred_int = np.round(y_test_pred)\n",
    "fig = plot_data(network, x_test, y_test_pred_int, 'Acc = %.2f' % ev[1])\n",
    "fig.savefig('/home/giovanni/Scrivania/Immagini_Presentazione_TDM/MLP_n2_xor_train.png', dpi=300)"
   ]
  },
  {
   "cell_type": "markdown",
   "metadata": {},
   "source": [
    "### Network 3"
   ]
  },
  {
   "cell_type": "code",
   "execution_count": null,
   "metadata": {
    "scrolled": true
   },
   "outputs": [],
   "source": [
    "### Multilayer perceprton\n",
    "\n",
    "network = models.Sequential()\n",
    "network.add(layers.Dense(4, activation='sigmoid', input_shape=(2,)))\n",
    "network.add(layers.Dense(8, activation='sigmoid'))\n",
    "network.add(layers.Dense(8, activation='sigmoid'))\n",
    "network.add(layers.Dense(1, activation='sigmoid'))\n",
    "\n",
    "network.compile(optimizer='rmsprop',\n",
    "                loss='binary_crossentropy',\n",
    "                metrics=['accuracy'])\n",
    "\n",
    "plot_model(network, to_file='model.png')\n",
    "history = network.fit(x_train, y_train, epochs=30, batch_size=128)\n",
    "ev = network.evaluate(x_test, y_test)\n",
    "\n",
    "figure()\n",
    "plot( history.history['loss'])\n",
    "plot( history.history['acc'])\n",
    "\n",
    "y_test_pred = network.predict(x_test)[:, 0]\n",
    "y_test_pred_int = np.round(y_test_pred)\n",
    "fig = plot_data(network, x_test, y_test_pred_int, 'Acc = %.2f' % ev[1])\n",
    "fig.savefig('/home/giovanni/Scrivania/Immagini_Presentazione_TDM/MLP_n3_xor_train.png', dpi=300)"
   ]
  },
  {
   "cell_type": "code",
   "execution_count": null,
   "metadata": {},
   "outputs": [],
   "source": []
  },
  {
   "cell_type": "code",
   "execution_count": null,
   "metadata": {},
   "outputs": [],
   "source": []
  }
 ],
 "metadata": {
  "kernelspec": {
   "display_name": "python3_tensorflow",
   "language": "python",
   "name": "python3_tensorflow"
  },
  "language_info": {
   "codemirror_mode": {
    "name": "ipython",
    "version": 3
   },
   "file_extension": ".py",
   "mimetype": "text/x-python",
   "name": "python",
   "nbconvert_exporter": "python",
   "pygments_lexer": "ipython3",
   "version": "3.6.5"
  }
 },
 "nbformat": 4,
 "nbformat_minor": 2
}
